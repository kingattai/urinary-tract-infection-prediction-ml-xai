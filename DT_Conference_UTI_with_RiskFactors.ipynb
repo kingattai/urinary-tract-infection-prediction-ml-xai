{
  "nbformat": 4,
  "nbformat_minor": 0,
  "metadata": {
    "colab": {
      "provenance": [],
      "authorship_tag": "ABX9TyP/r0g6s82iNVB/J14VZD5d",
      "include_colab_link": true
    },
    "kernelspec": {
      "name": "python3",
      "display_name": "Python 3"
    },
    "language_info": {
      "name": "python"
    }
  },
  "cells": [
    {
      "cell_type": "markdown",
      "metadata": {
        "id": "view-in-github",
        "colab_type": "text"
      },
      "source": [
        "<a href=\"https://colab.research.google.com/github/kingattai/urinary-tract-infection-prediction-ml-xai/blob/main/DT_Conference_UTI_with_RiskFactors.ipynb\" target=\"_parent\"><img src=\"https://colab.research.google.com/assets/colab-badge.svg\" alt=\"Open In Colab\"/></a>"
      ]
    },
    {
      "cell_type": "code",
      "execution_count": null,
      "metadata": {
        "colab": {
          "base_uri": "https://localhost:8080/"
        },
        "id": "Cf82bju4ajJn",
        "outputId": "7b59858e-7366-4be1-ca5a-39c5543e45da"
      },
      "outputs": [
        {
          "output_type": "stream",
          "name": "stdout",
          "text": [
            "Collecting treeinterpreter\n",
            "  Downloading treeinterpreter-0.2.3-py2.py3-none-any.whl.metadata (2.0 kB)\n",
            "Downloading treeinterpreter-0.2.3-py2.py3-none-any.whl (6.0 kB)\n",
            "Installing collected packages: treeinterpreter\n",
            "Successfully installed treeinterpreter-0.2.3\n"
          ]
        }
      ],
      "source": [
        "!pip install treeinterpreter"
      ]
    },
    {
      "cell_type": "code",
      "source": [
        "!pip install imbalanced-learn"
      ],
      "metadata": {
        "colab": {
          "base_uri": "https://localhost:8080/"
        },
        "id": "Nrsa7g21a1zv",
        "outputId": "6514226c-43b2-411f-f761-3e412cef0688"
      },
      "execution_count": null,
      "outputs": [
        {
          "output_type": "stream",
          "name": "stdout",
          "text": [
            "Requirement already satisfied: imbalanced-learn in /usr/local/lib/python3.11/dist-packages (0.13.0)\n",
            "Requirement already satisfied: numpy<3,>=1.24.3 in /usr/local/lib/python3.11/dist-packages (from imbalanced-learn) (2.0.2)\n",
            "Requirement already satisfied: scipy<2,>=1.10.1 in /usr/local/lib/python3.11/dist-packages (from imbalanced-learn) (1.15.3)\n",
            "Requirement already satisfied: scikit-learn<2,>=1.3.2 in /usr/local/lib/python3.11/dist-packages (from imbalanced-learn) (1.6.1)\n",
            "Requirement already satisfied: sklearn-compat<1,>=0.1 in /usr/local/lib/python3.11/dist-packages (from imbalanced-learn) (0.1.3)\n",
            "Requirement already satisfied: joblib<2,>=1.1.1 in /usr/local/lib/python3.11/dist-packages (from imbalanced-learn) (1.5.0)\n",
            "Requirement already satisfied: threadpoolctl<4,>=2.0.0 in /usr/local/lib/python3.11/dist-packages (from imbalanced-learn) (3.6.0)\n"
          ]
        }
      ]
    },
    {
      "cell_type": "code",
      "source": [
        "import pandas as pd\n",
        "import numpy as np\n",
        "import seaborn as sns\n",
        "import matplotlib.pyplot as plt\n",
        "\n",
        "from sklearn.model_selection import train_test_split, GridSearchCV\n",
        "from sklearn.tree import DecisionTreeClassifier\n",
        "from sklearn.metrics import (accuracy_score, precision_score, recall_score,\n",
        "                             f1_score, log_loss, classification_report,\n",
        "                             confusion_matrix, roc_auc_score)\n",
        "from sklearn.impute import SimpleImputer\n",
        "from imblearn.over_sampling import SMOTE\n",
        "from treeinterpreter import treeinterpreter as ti\n",
        "from sklearn.inspection import PartialDependenceDisplay"
      ],
      "metadata": {
        "id": "tZKiu1Wza13E"
      },
      "execution_count": null,
      "outputs": []
    },
    {
      "cell_type": "code",
      "source": [
        "# Mount Google Drive\n",
        "from google.colab import drive\n",
        "drive.mount('/content/drive')"
      ],
      "metadata": {
        "colab": {
          "base_uri": "https://localhost:8080/"
        },
        "id": "tINwJPGPa15_",
        "outputId": "0b1448b7-9db1-407a-af97-84093aef38e0"
      },
      "execution_count": null,
      "outputs": [
        {
          "output_type": "stream",
          "name": "stdout",
          "text": [
            "Mounted at /content/drive\n"
          ]
        }
      ]
    },
    {
      "cell_type": "code",
      "source": [
        "# 1. Load dataset\n",
        "df = pd.read_csv('/content/drive/My Drive/Colab Notebooks/NFRF ML/UTI_Data.csv')\n",
        "df2 = df.drop(df.columns[0], axis=1)  # Drop first index/ID column"
      ],
      "metadata": {
        "id": "OkUeJNuda19U"
      },
      "execution_count": null,
      "outputs": []
    },
    {
      "cell_type": "code",
      "source": [
        "# 3. Split into features and target\n",
        "X = df2.iloc[:, :-1].values\n",
        "y = df2.iloc[:, -1].values"
      ],
      "metadata": {
        "id": "gLLCWUQoa2Aa"
      },
      "execution_count": null,
      "outputs": []
    },
    {
      "cell_type": "code",
      "source": [
        "# 4. Train-test split\n",
        "X_train, X_test, y_train, y_test = train_test_split(X, y, test_size=0.2, random_state=42)"
      ],
      "metadata": {
        "id": "0EUqGv5aa2DF"
      },
      "execution_count": null,
      "outputs": []
    },
    {
      "cell_type": "code",
      "source": [
        "# Apply SMOTE\n",
        "smote = SMOTE(random_state=42)\n",
        "X_train_smote, y_train_smote = smote.fit_resample(X_train, y_train)\n",
        "print(\"Class distribution after SMOTE:\", np.bincount(y_train_smote))"
      ],
      "metadata": {
        "colab": {
          "base_uri": "https://localhost:8080/"
        },
        "id": "wLaZ52SEa2Ga",
        "outputId": "7eb2f907-dc3c-4cd3-c77d-c376906406d0"
      },
      "execution_count": null,
      "outputs": [
        {
          "output_type": "stream",
          "name": "stdout",
          "text": [
            "Class distribution after SMOTE: [3129 3129]\n"
          ]
        }
      ]
    },
    {
      "cell_type": "code",
      "source": [
        "dt = DecisionTreeClassifier(random_state=42)\n",
        "param_grid_dt = {'max_depth': [None, 10, 20]}\n",
        "grid_search_dt = GridSearchCV(dt, param_grid_dt, cv=5, scoring='accuracy', n_jobs=-1)\n",
        "grid_search_dt.fit(X_train_smote, y_train_smote)\n",
        "best_dt_model = grid_search_dt.best_estimator_"
      ],
      "metadata": {
        "id": "F8JYHutua2JL"
      },
      "execution_count": null,
      "outputs": []
    },
    {
      "cell_type": "code",
      "source": [
        "# Prediction and Evaluation\n",
        "y_pred_dt = best_dt_model.predict(X_test)\n",
        "y_prob_dt = best_dt_model.predict_proba(X_test)\n",
        "print(\"Best parameters:\", grid_search_dt.best_params_)\n",
        "print(\"\\nClassification Report:\\n\", classification_report(y_test, y_pred_dt))\n",
        "print(f\"Accuracy: {accuracy_score(y_test, y_pred_dt):.4f}\")\n",
        "print(f\"Precision: {precision_score(y_test, y_pred_dt, average='weighted'):.4f}\")\n",
        "print(f\"Recall: {recall_score(y_test, y_pred_dt, average='weighted'):.4f}\")\n",
        "print(f\"F1 Score: {f1_score(y_test, y_pred_dt, average='weighted'):.4f}\")\n",
        "print(f\"Log Loss: {log_loss(y_test, y_prob_dt):.4f}\")\n",
        "if len(np.unique(y_test)) == 2:\n",
        "    print(f\"AUC-ROC: {roc_auc_score(y_test, y_prob_dt[:, 1]):.4f}\")"
      ],
      "metadata": {
        "colab": {
          "base_uri": "https://localhost:8080/"
        },
        "id": "k-CCJ1SXa2NF",
        "outputId": "e6e228d7-dff5-498e-ff18-278ecec66083"
      },
      "execution_count": null,
      "outputs": [
        {
          "output_type": "stream",
          "name": "stdout",
          "text": [
            "Best parameters: {'max_depth': 20}\n",
            "\n",
            "Classification Report:\n",
            "               precision    recall  f1-score   support\n",
            "\n",
            "           0       0.90      0.86      0.88       775\n",
            "           1       0.53      0.64      0.58       198\n",
            "\n",
            "    accuracy                           0.81       973\n",
            "   macro avg       0.72      0.75      0.73       973\n",
            "weighted avg       0.83      0.81      0.82       973\n",
            "\n",
            "Accuracy: 0.8129\n",
            "Precision: 0.8282\n",
            "Recall: 0.8129\n",
            "F1 Score: 0.8191\n",
            "Log Loss: 5.5892\n",
            "AUC-ROC: 0.7263\n"
          ]
        }
      ]
    },
    {
      "cell_type": "code",
      "source": [
        "# Confusion Matrix\n",
        "sns.heatmap(confusion_matrix(y_test, y_pred_dt), annot=True, fmt='d', cmap='Blues')\n",
        "plt.xlabel('Predicted'); plt.ylabel('Actual'); plt.title('Decision Tree Confusion Matrix')\n",
        "plt.show()"
      ],
      "metadata": {
        "colab": {
          "base_uri": "https://localhost:8080/",
          "height": 472
        },
        "id": "binW5rEYa2Pk",
        "outputId": "0439cad1-6ea8-46b9-fb3c-5a73ca6910aa"
      },
      "execution_count": null,
      "outputs": [
        {
          "output_type": "display_data",
          "data": {
            "text/plain": [
              "<Figure size 640x480 with 2 Axes>"
            ],
            "image/png": "[encoded data removed]"
          },
          "metadata": {}
        }
      ]
    },
    {
      "cell_type": "code",
      "source": [
        "# TreeInterpreter\n",
        "instance = X_test[0:1]\n",
        "prediction, bias, contributions = ti.predict(best_dt_model, instance)\n",
        "print(\"\\n🌳 TreeInterpreter (Instance 0)\")\n",
        "print(f\"Prediction: {prediction[0]}\")\n",
        "print(f\"Bias: {bias[0]}\")\n",
        "for i, c in enumerate(contributions[0]):\n",
        "    print(f\"Feature {i} contributions per class: {[round(val, 4) for val in c]}\")"
      ],
      "metadata": {
        "colab": {
          "base_uri": "https://localhost:8080/"
        },
        "id": "rkM-JvI0a2Tl",
        "outputId": "e529d89d-a8de-40c4-a82f-25fc62085dd7"
      },
      "execution_count": null,
      "outputs": [
        {
          "output_type": "stream",
          "name": "stdout",
          "text": [
            "\n",
            "🌳 TreeInterpreter (Instance 0)\n",
            "Prediction: [0. 1.]\n",
            "Bias: [0.5 0.5]\n",
            "Feature 0 contributions per class: [np.float64(0.0), np.float64(0.0)]\n",
            "Feature 1 contributions per class: [np.float64(0.0), np.float64(0.0)]\n",
            "Feature 2 contributions per class: [np.float64(0.0), np.float64(0.0)]\n",
            "Feature 3 contributions per class: [np.float64(-0.0116), np.float64(0.0116)]\n",
            "Feature 4 contributions per class: [np.float64(0.0), np.float64(0.0)]\n",
            "Feature 5 contributions per class: [np.float64(0.0), np.float64(0.0)]\n",
            "Feature 6 contributions per class: [np.float64(0.0), np.float64(0.0)]\n",
            "Feature 7 contributions per class: [np.float64(0.0), np.float64(0.0)]\n",
            "Feature 8 contributions per class: [np.float64(-0.0542), np.float64(0.0542)]\n",
            "Feature 9 contributions per class: [np.float64(-0.1), np.float64(0.1)]\n",
            "Feature 10 contributions per class: [np.float64(-0.4218), np.float64(0.4218)]\n",
            "Feature 11 contributions per class: [np.float64(0.0), np.float64(0.0)]\n",
            "Feature 12 contributions per class: [np.float64(0.0), np.float64(0.0)]\n",
            "Feature 13 contributions per class: [np.float64(0.0), np.float64(0.0)]\n",
            "Feature 14 contributions per class: [np.float64(0.0), np.float64(0.0)]\n",
            "Feature 15 contributions per class: [np.float64(0.0), np.float64(0.0)]\n",
            "Feature 16 contributions per class: [np.float64(0.0875), np.float64(-0.0875)]\n",
            "Feature 17 contributions per class: [np.float64(0.0), np.float64(0.0)]\n",
            "Feature 18 contributions per class: [np.float64(0.0), np.float64(0.0)]\n"
          ]
        }
      ]
    },
    {
      "cell_type": "code",
      "source": [
        "# Use instance 0 from the test set\n",
        "instance = X_test[0:1]\n",
        "\n",
        "# Predict and get contributions\n",
        "prediction, bias, contributions = ti.predict(best_dt_model, instance)\n",
        "\n",
        "# Rank contributions by magnitude\n",
        "contrib_class = contributions[0][:, 1]  # For positive class (class 1)\n",
        "sorted_idx = np.argsort(np.abs(contrib_class))[::-1]\n",
        "\n",
        "print(\"\\n Top Contributing Features for Class 1 Prediction:\")\n",
        "for idx in sorted_idx:\n",
        "    print(f\"Feature {idx} contribution: {contrib_class[idx]:.4f}\")"
      ],
      "metadata": {
        "colab": {
          "base_uri": "https://localhost:8080/"
        },
        "id": "CwVWURG0a2gv",
        "outputId": "483501b7-7127-4f7b-8b3c-f0bd72312f23"
      },
      "execution_count": null,
      "outputs": [
        {
          "output_type": "stream",
          "name": "stdout",
          "text": [
            "\n",
            " Top Contributing Features for Class 1 Prediction:\n",
            "Feature 10 contribution: 0.4218\n",
            "Feature 9 contribution: 0.1000\n",
            "Feature 16 contribution: -0.0875\n",
            "Feature 8 contribution: 0.0542\n",
            "Feature 3 contribution: 0.0116\n",
            "Feature 17 contribution: 0.0000\n",
            "Feature 18 contribution: 0.0000\n",
            "Feature 12 contribution: 0.0000\n",
            "Feature 13 contribution: 0.0000\n",
            "Feature 14 contribution: 0.0000\n",
            "Feature 15 contribution: 0.0000\n",
            "Feature 11 contribution: 0.0000\n",
            "Feature 7 contribution: 0.0000\n",
            "Feature 5 contribution: 0.0000\n",
            "Feature 6 contribution: 0.0000\n",
            "Feature 4 contribution: 0.0000\n",
            "Feature 2 contribution: 0.0000\n",
            "Feature 1 contribution: 0.0000\n",
            "Feature 0 contribution: 0.0000\n"
          ]
        }
      ]
    },
    {
      "cell_type": "code",
      "source": [
        "!pip install lime"
      ],
      "metadata": {
        "colab": {
          "base_uri": "https://localhost:8080/"
        },
        "id": "sVKpAy95zRXt",
        "outputId": "a0cbcc0f-c9b8-47b8-f79a-0a39b8d59a59"
      },
      "execution_count": null,
      "outputs": [
        {
          "output_type": "stream",
          "name": "stdout",
          "text": [
            "Collecting lime\n",
            "  Downloading lime-0.2.0.1.tar.gz (275 kB)\n",
            "\u001b[?25l     \u001b[90m━━━━━━━━━━━━━━━━━━━━━━━━━━━━━━━━━━━━━━━━\u001b[0m \u001b[32m0.0/275.7 kB\u001b[0m \u001b[31m?\u001b[0m eta \u001b[36m-:--:--\u001b[0m\r\u001b[2K     \u001b[91m━━━━━━━━━━━━━━━━━━━━━━━━━━━━━━━━━━━━━\u001b[0m\u001b[91m╸\u001b[0m\u001b[90m━\u001b[0m \u001b[32m266.2/275.7 kB\u001b[0m \u001b[31m7.8 MB/s\u001b[0m eta \u001b[36m0:00:01\u001b[0m\r\u001b[2K     \u001b[90m━━━━━━━━━━━━━━━━━━━━━━━━━━━━━━━━━━━━━━━\u001b[0m \u001b[32m275.7/275.7 kB\u001b[0m \u001b[31m5.8 MB/s\u001b[0m eta \u001b[36m0:00:00\u001b[0m\n",
            "\u001b[?25h  Preparing metadata (setup.py) ... \u001b[?25l\u001b[?25hdone\n",
            "Requirement already satisfied: matplotlib in /usr/local/lib/python3.11/dist-packages (from lime) (3.10.0)\n",
            "Requirement already satisfied: numpy in /usr/local/lib/python3.11/dist-packages (from lime) (2.0.2)\n",
            "Requirement already satisfied: scipy in /usr/local/lib/python3.11/dist-packages (from lime) (1.15.3)\n",
            "Requirement already satisfied: tqdm in /usr/local/lib/python3.11/dist-packages (from lime) (4.67.1)\n",
            "Requirement already satisfied: scikit-learn>=0.18 in /usr/local/lib/python3.11/dist-packages (from lime) (1.6.1)\n",
            "Requirement already satisfied: scikit-image>=0.12 in /usr/local/lib/python3.11/dist-packages (from lime) (0.25.2)\n",
            "Requirement already satisfied: networkx>=3.0 in /usr/local/lib/python3.11/dist-packages (from scikit-image>=0.12->lime) (3.4.2)\n",
            "Requirement already satisfied: pillow>=10.1 in /usr/local/lib/python3.11/dist-packages (from scikit-image>=0.12->lime) (11.2.1)\n",
            "Requirement already satisfied: imageio!=2.35.0,>=2.33 in /usr/local/lib/python3.11/dist-packages (from scikit-image>=0.12->lime) (2.37.0)\n",
            "Requirement already satisfied: tifffile>=2022.8.12 in /usr/local/lib/python3.11/dist-packages (from scikit-image>=0.12->lime) (2025.5.21)\n",
            "Requirement already satisfied: packaging>=21 in /usr/local/lib/python3.11/dist-packages (from scikit-image>=0.12->lime) (24.2)\n",
            "Requirement already satisfied: lazy-loader>=0.4 in /usr/local/lib/python3.11/dist-packages (from scikit-image>=0.12->lime) (0.4)\n",
            "Requirement already satisfied: joblib>=1.2.0 in /usr/local/lib/python3.11/dist-packages (from scikit-learn>=0.18->lime) (1.5.0)\n",
            "Requirement already satisfied: threadpoolctl>=3.1.0 in /usr/local/lib/python3.11/dist-packages (from scikit-learn>=0.18->lime) (3.6.0)\n",
            "Requirement already satisfied: contourpy>=1.0.1 in /usr/local/lib/python3.11/dist-packages (from matplotlib->lime) (1.3.2)\n",
            "Requirement already satisfied: cycler>=0.10 in /usr/local/lib/python3.11/dist-packages (from matplotlib->lime) (0.12.1)\n",
            "Requirement already satisfied: fonttools>=4.22.0 in /usr/local/lib/python3.11/dist-packages (from matplotlib->lime) (4.58.0)\n",
            "Requirement already satisfied: kiwisolver>=1.3.1 in /usr/local/lib/python3.11/dist-packages (from matplotlib->lime) (1.4.8)\n",
            "Requirement already satisfied: pyparsing>=2.3.1 in /usr/local/lib/python3.11/dist-packages (from matplotlib->lime) (3.2.3)\n",
            "Requirement already satisfied: python-dateutil>=2.7 in /usr/local/lib/python3.11/dist-packages (from matplotlib->lime) (2.9.0.post0)\n",
            "Requirement already satisfied: six>=1.5 in /usr/local/lib/python3.11/dist-packages (from python-dateutil>=2.7->matplotlib->lime) (1.17.0)\n",
            "Building wheels for collected packages: lime\n",
            "  Building wheel for lime (setup.py) ... \u001b[?25l\u001b[?25hdone\n",
            "  Created wheel for lime: filename=lime-0.2.0.1-py3-none-any.whl size=283834 sha256=ec112d593aae72e9a0823a76f8de8103efe1fa770623ecd4b4b6616597d0ef3c\n",
            "  Stored in directory: /root/.cache/pip/wheels/85/fa/a3/9c2d44c9f3cd77cf4e533b58900b2bf4487f2a17e8ec212a3d\n",
            "Successfully built lime\n",
            "Installing collected packages: lime\n",
            "Successfully installed lime-0.2.0.1\n"
          ]
        }
      ]
    },
    {
      "cell_type": "code",
      "source": [
        "import lime\n",
        "import lime.lime_tabular"
      ],
      "metadata": {
        "id": "Bn6QjAuqz5mj"
      },
      "execution_count": null,
      "outputs": []
    },
    {
      "cell_type": "code",
      "source": [
        "# If you used NumPy arrays, convert to DataFrame for feature names\n",
        "if isinstance(X_train, np.ndarray):\n",
        "    feature_names = df2.dropna(axis=1).columns[:-1]  # Exclude target column\n",
        "    X_train_df = pd.DataFrame(X_train, columns=feature_names)\n",
        "    X_test_df = pd.DataFrame(X_test, columns=feature_names)\n",
        "else:\n",
        "    feature_names = X_train.columns\n",
        "    X_train_df = X_train\n",
        "    X_test_df = X_test\n",
        "\n",
        "# Initialize LIME explainer\n",
        "explainer = lime.lime_tabular.LimeTabularExplainer(\n",
        "    training_data=X_train_df.values,\n",
        "    feature_names=feature_names,\n",
        "    class_names=['No Disease', 'Disease'],\n",
        "    mode='classification',\n",
        "    discretize_continuous=True\n",
        ")"
      ],
      "metadata": {
        "id": "EoD8Jwjxz6di"
      },
      "execution_count": null,
      "outputs": []
    },
    {
      "cell_type": "code",
      "source": [
        "# Explain prediction for the first test instance\n",
        "i = 0\n",
        "exp_dt = explainer.explain_instance(\n",
        "    X_test_df.iloc[i].values,\n",
        "    best_dt_model.predict_proba,  # assuming you did grid search or fitted as best_dt_model\n",
        "    num_features=len(feature_names)\n",
        ")\n",
        "\n",
        "# Show explanation\n",
        "print(\"\\n LIME Explanation (Decision Tree):\")\n",
        "fig = exp_dt.as_pyplot_figure()\n",
        "plt.title(\"Decision Tree LIME Explanation\")\n",
        "plt.tight_layout()\n",
        "plt.show()"
      ],
      "metadata": {
        "colab": {
          "base_uri": "https://localhost:8080/",
          "height": 524
        },
        "id": "C38ER-LQ0Iv5",
        "outputId": "691e4615-eefe-4ebd-f4e6-bb5c8a69e9a4"
      },
      "execution_count": null,
      "outputs": [
        {
          "output_type": "stream",
          "name": "stdout",
          "text": [
            "\n",
            " LIME Explanation (Decision Tree):\n"
          ]
        },
        {
          "output_type": "display_data",
          "data": {
            "text/plain": [
              "<Figure size 640x480 with 1 Axes>"
            ],
            "image/png": "[encoded data removed]"
          },
          "metadata": {}
        }
      ]
    }
  ]
}